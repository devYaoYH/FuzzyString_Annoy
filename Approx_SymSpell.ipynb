{
 "cells": [
  {
   "cell_type": "code",
   "execution_count": 1,
   "metadata": {},
   "outputs": [],
   "source": [
    "import sys\n",
    "import math\n",
    "import time\n",
    "import numpy as np\n",
    "import pandas as pd\n",
    "from symspellpy import SymSpell, Verbosity\n",
    "from textdistance import levenshtein"
   ]
  },
  {
   "cell_type": "code",
   "execution_count": 2,
   "metadata": {},
   "outputs": [],
   "source": [
    "# Helper function for timing\n",
    "def debug_time(msg, init):\n",
    "    print(f\"{msg} [{(time.time()-init)*1000:.3f}ms]\", file=sys.stderr, flush=True)"
   ]
  },
  {
   "cell_type": "code",
   "execution_count": 3,
   "metadata": {},
   "outputs": [],
   "source": [
    "# Some Constants\n",
    "NAME_MAXLENGTH = 20\n",
    "CYCLE_INPUT_STRING = False  # Should we wrap-around strings if they are shorter than NAME_MAXLENGTH?\n",
    "                            # I think produces better results to 'control' for differences in string length"
   ]
  },
  {
   "cell_type": "code",
   "execution_count": 4,
   "metadata": {},
   "outputs": [
    {
     "name": "stdout",
     "output_type": "stream",
     "text": [
      "0         REPUBLIC HOTELS & RESORTS LIMITED\n",
      "2                         M.K. RAMA PTE LTD\n",
      "3             GRAND PARK PROPERTY PTE. LTD.\n",
      "4                  MILLENIA PRIVATE LIMITED\n",
      "6              BCH HOTEL INVESTMENT PTE LTD\n",
      "                        ...                \n",
      "36682     AINON BTE BADRI ( AINON BTE ALI )\n",
      "36683         SYED IBRAHIM BIN PEER MOHAMED\n",
      "36684                      SAITON BINTE ALI\n",
      "36685                     AMINAH BTE K OMAR\n",
      "36686    AISHA BEGAM BINTE MOHAMED MUSTHAPA\n",
      "Name: licensee_name, Length: 22878, dtype: object\n"
     ]
    }
   ],
   "source": [
    "# Extract out 'License Name' column from dataset\n",
    "dataset = \"list-of-nea-licensed-eating-establishments.csv\"\n",
    "df = pd.read_csv(dataset)\n",
    "df = df['licensee_name']\n",
    "df = df.drop_duplicates()\n",
    "print(df)"
   ]
  },
  {
   "cell_type": "code",
   "execution_count": 5,
   "metadata": {},
   "outputs": [],
   "source": [
    "# Sanitization function\n",
    "def sanitize_alpha(data, maxlen=NAME_MAXLENGTH):\n",
    "    orig_string = ''.join([c for c in data.lower() if c.isalpha()])\n",
    "    if (CYCLE_INPUT_STRING):\n",
    "        cyc_string = orig_string*(math.ceil(maxlen/len(orig_string)))\n",
    "        return cyc_string[:maxlen]\n",
    "    else:\n",
    "        return orig_string[:maxlen]"
   ]
  },
  {
   "cell_type": "code",
   "execution_count": 6,
   "metadata": {},
   "outputs": [
    {
     "name": "stdout",
     "output_type": "stream",
     "text": [
      "0        republichotelsresort\n",
      "2                mkramapteltd\n",
      "3        grandparkpropertypte\n",
      "4        milleniaprivatelimit\n",
      "6        bchhotelinvestmentpt\n",
      "                 ...         \n",
      "36682    ainonbtebadriainonbt\n",
      "36683    syedibrahimbinpeermo\n",
      "36684          saitonbinteali\n",
      "36685          aminahbtekomar\n",
      "36686    aishabegambintemoham\n",
      "Name: licensee_name, Length: 22878, dtype: object\n"
     ]
    }
   ],
   "source": [
    "# Clean up dataframe contents to only include ALPHABETICAL letters in lowercase (26 a-z)\n",
    "clean_df = df.map(sanitize_alpha)\n",
    "dictionary = {k:v for k,v in zip(clean_df, df)}\n",
    "print(clean_df)"
   ]
  },
  {
   "cell_type": "code",
   "execution_count": 7,
   "metadata": {},
   "outputs": [],
   "source": [
    "sym_spell = SymSpell(max_dictionary_edit_distance=5)"
   ]
  },
  {
   "cell_type": "code",
   "execution_count": 8,
   "metadata": {},
   "outputs": [
    {
     "name": "stderr",
     "output_type": "stream",
     "text": [
      "Dictionary build time [4254.164ms]\n"
     ]
    }
   ],
   "source": [
    "# Add words into the dictionary\n",
    "b_time = time.time()\n",
    "for word in clean_df:\n",
    "    sym_spell.create_dictionary_entry(word, 1)\n",
    "debug_time(\"Dictionary build time\", b_time)"
   ]
  },
  {
   "cell_type": "code",
   "execution_count": 14,
   "metadata": {},
   "outputs": [],
   "source": [
    "def query(q_string):\n",
    "    q_time = time.time()\n",
    "    suggestions = sym_spell.lookup(sanitize_alpha(q_string), Verbosity.CLOSEST, max_edit_distance=5)\n",
    "    debug_time(\"Query time\", q_time)\n",
    "    for suggestion in suggestions:\n",
    "        print(f\"Suggested Fix: {dictionary[suggestion.term]} | Levenshtein Distance: {suggestion.distance}\")"
   ]
  },
  {
   "cell_type": "code",
   "execution_count": 15,
   "metadata": {},
   "outputs": [
    {
     "name": "stderr",
     "output_type": "stream",
     "text": [
      "Query time [19.484ms]\n"
     ]
    },
    {
     "name": "stdout",
     "output_type": "stream",
     "text": [
      "Suggested Fix: REPUBLIC HOTELS & RESORTS LIMITED | Levenshtein Distance: 4\n"
     ]
    }
   ],
   "source": [
    "query(\"rpblic hotlls resot\")"
   ]
  },
  {
   "cell_type": "code",
   "execution_count": 16,
   "metadata": {},
   "outputs": [
    {
     "name": "stderr",
     "output_type": "stream",
     "text": [
      "Query time [14.424ms]\n"
     ]
    },
    {
     "name": "stdout",
     "output_type": "stream",
     "text": [
      "Suggested Fix: LEE CHOON SENG | Levenshtein Distance: 3\n",
      "Suggested Fix: CHIEW CHOON SENG | Levenshtein Distance: 3\n"
     ]
    }
   ],
   "source": [
    "query(\"Chee choon bEng\")"
   ]
  },
  {
   "cell_type": "code",
   "execution_count": null,
   "metadata": {},
   "outputs": [],
   "source": []
  }
 ],
 "metadata": {
  "kernelspec": {
   "display_name": "Python 3",
   "language": "python",
   "name": "python3"
  },
  "language_info": {
   "codemirror_mode": {
    "name": "ipython",
    "version": 3
   },
   "file_extension": ".py",
   "mimetype": "text/x-python",
   "name": "python",
   "nbconvert_exporter": "python",
   "pygments_lexer": "ipython3",
   "version": "3.8.3"
  }
 },
 "nbformat": 4,
 "nbformat_minor": 4
}
